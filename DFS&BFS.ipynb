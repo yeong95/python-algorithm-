{
 "cells": [
  {
   "cell_type": "markdown",
   "metadata": {},
   "source": [
    "# 음료수 얼려 먹기 "
   ]
  },
  {
   "cell_type": "code",
   "execution_count": 3,
   "metadata": {
    "ExecuteTime": {
     "end_time": "2021-08-20T00:27:09.127506Z",
     "start_time": "2021-08-20T00:26:49.802938Z"
    },
    "scrolled": true
   },
   "outputs": [
    {
     "name": "stdout",
     "output_type": "stream",
     "text": [
      "4 5\n",
      "00110\n",
      "00011\n",
      "11111\n",
      "00000\n"
     ]
    }
   ],
   "source": [
    "N, M = map(int, input().split())\n",
    "\n",
    "ice_list = []\n",
    "for i in range(N):\n",
    "    row = list(map(int, input()))\n",
    "    ice_list.append(row)\n",
    "\n",
    "\n",
    "\n",
    "\n",
    "    \n",
    "# print(N,M)\n",
    "# print(ice_list)"
   ]
  },
  {
   "cell_type": "code",
   "execution_count": 8,
   "metadata": {
    "ExecuteTime": {
     "end_time": "2021-08-20T00:29:13.630134Z",
     "start_time": "2021-08-20T00:29:13.620122Z"
    }
   },
   "outputs": [],
   "source": [
    "def dfs(x,y):\n",
    "    # 주어진 범위를 벗어나는 경우 \n",
    "    #import pdb;pdb.set_trace()\n",
    "    if x<0 or y<0 or x>=N or y>=M:\n",
    "        return False \n",
    "    # 해당 노드를 아직 방문 x\n",
    "    if ice_list[x][y] == 0:\n",
    "        # 해당 노드 방문 처리 \n",
    "        ice_list[x][y] = 1\n",
    "        dfs(x-1,y)\n",
    "        dfs(x,y-1)\n",
    "        dfs(x+1,y)\n",
    "        dfs(x,y+1)\n",
    "        return True\n",
    "    return False \n",
    "        "
   ]
  },
  {
   "cell_type": "code",
   "execution_count": 9,
   "metadata": {
    "ExecuteTime": {
     "end_time": "2021-08-20T00:29:14.435859Z",
     "start_time": "2021-08-20T00:29:14.427899Z"
    }
   },
   "outputs": [],
   "source": [
    "result = 0 \n",
    "for i in range(N):\n",
    "    for j in range(M):\n",
    "        if dfs(i,j)==True:\n",
    "            result+=1"
   ]
  },
  {
   "cell_type": "code",
   "execution_count": 10,
   "metadata": {
    "ExecuteTime": {
     "end_time": "2021-08-20T00:29:19.180296Z",
     "start_time": "2021-08-20T00:29:19.167333Z"
    }
   },
   "outputs": [
    {
     "name": "stdout",
     "output_type": "stream",
     "text": [
      "3\n"
     ]
    }
   ],
   "source": [
    "print(result)"
   ]
  },
  {
   "cell_type": "markdown",
   "metadata": {},
   "source": [
    "# 미로 탈출 "
   ]
  },
  {
   "cell_type": "code",
   "execution_count": 37,
   "metadata": {
    "ExecuteTime": {
     "end_time": "2021-08-31T11:30:41.783903Z",
     "start_time": "2021-08-31T11:30:29.593443Z"
    }
   },
   "outputs": [
    {
     "name": "stdout",
     "output_type": "stream",
     "text": [
      "5 6 \n",
      "101010\n",
      "111111\n",
      "000001\n",
      "111111\n",
      "111111\n"
     ]
    }
   ],
   "source": [
    "N, M = map(int, input().split())\n",
    "\n",
    "MAZE = []\n",
    "for i in range(N):\n",
    "    row = list(map(int, input()))\n",
    "    MAZE.append(row)"
   ]
  },
  {
   "cell_type": "code",
   "execution_count": 38,
   "metadata": {
    "ExecuteTime": {
     "end_time": "2021-08-31T11:30:47.271121Z",
     "start_time": "2021-08-31T11:30:47.262089Z"
    }
   },
   "outputs": [],
   "source": [
    "maze = MAZE.copy()"
   ]
  },
  {
   "cell_type": "code",
   "execution_count": 39,
   "metadata": {
    "ExecuteTime": {
     "end_time": "2021-08-31T11:30:50.183033Z",
     "start_time": "2021-08-31T11:30:50.173031Z"
    }
   },
   "outputs": [],
   "source": [
    "from collections import deque"
   ]
  },
  {
   "cell_type": "code",
   "execution_count": 40,
   "metadata": {
    "ExecuteTime": {
     "end_time": "2021-08-31T11:30:50.198283Z",
     "start_time": "2021-08-31T11:30:50.185042Z"
    }
   },
   "outputs": [],
   "source": [
    "def BFS(x,y):\n",
    "    queue = deque()\n",
    "    queue.append((x,y))\n",
    "    \n",
    "    while queue:\n",
    "        x,y = queue.popleft()\n",
    "        \n",
    "        for i in range(4):\n",
    "            nx = x + dx[i]\n",
    "            ny = y + dy[i]\n",
    "            \n",
    "            if nx<0 or ny<0 or nx>N-1 or ny>M-1:\n",
    "                continue\n",
    "            if maze[nx][ny] == 0:\n",
    "                continue\n",
    "            if maze[nx][ny] == 1:\n",
    "                maze[nx][ny] = maze[x][y] + 1\n",
    "                queue.append((nx,ny))\n",
    "                \n",
    "    return maze[N-1][M-1]\n",
    "                \n",
    "            \n",
    "        "
   ]
  },
  {
   "cell_type": "code",
   "execution_count": 41,
   "metadata": {
    "ExecuteTime": {
     "end_time": "2021-08-31T11:30:50.214011Z",
     "start_time": "2021-08-31T11:30:50.200286Z"
    }
   },
   "outputs": [],
   "source": [
    "dx = [-1, 1, 0, 0]\n",
    "dy = [0, 0, -1, 1]"
   ]
  },
  {
   "cell_type": "code",
   "execution_count": 42,
   "metadata": {
    "ExecuteTime": {
     "end_time": "2021-08-31T11:30:50.229343Z",
     "start_time": "2021-08-31T11:30:50.215895Z"
    }
   },
   "outputs": [
    {
     "data": {
      "text/plain": [
       "10"
      ]
     },
     "execution_count": 42,
     "metadata": {},
     "output_type": "execute_result"
    }
   ],
   "source": [
    "result = BFS(0,0)\n",
    "result"
   ]
  },
  {
   "cell_type": "code",
   "execution_count": 36,
   "metadata": {
    "ExecuteTime": {
     "end_time": "2021-08-31T11:30:10.188009Z",
     "start_time": "2021-08-31T11:30:10.180043Z"
    },
    "scrolled": true
   },
   "outputs": [
    {
     "data": {
      "text/plain": [
       "[[25, 0, 25, 0, 25, 0],\n",
       " [24, 25, 24, 25, 24, 25],\n",
       " [0, 0, 0, 0, 0, 24],\n",
       " [24, 25, 24, 25, 24, 25],\n",
       " [25, 24, 25, 24, 25, 24]]"
      ]
     },
     "execution_count": 36,
     "metadata": {},
     "output_type": "execute_result"
    }
   ],
   "source": [
    "maze"
   ]
  }
 ],
 "metadata": {
  "kernelspec": {
   "display_name": "Python 3",
   "language": "python",
   "name": "python3"
  },
  "language_info": {
   "codemirror_mode": {
    "name": "ipython",
    "version": 3
   },
   "file_extension": ".py",
   "mimetype": "text/x-python",
   "name": "python",
   "nbconvert_exporter": "python",
   "pygments_lexer": "ipython3",
   "version": "3.7.3"
  },
  "toc": {
   "base_numbering": 1,
   "nav_menu": {},
   "number_sections": true,
   "sideBar": true,
   "skip_h1_title": false,
   "title_cell": "Table of Contents",
   "title_sidebar": "Contents",
   "toc_cell": false,
   "toc_position": {},
   "toc_section_display": true,
   "toc_window_display": false
  },
  "varInspector": {
   "cols": {
    "lenName": 16,
    "lenType": 16,
    "lenVar": 40
   },
   "kernels_config": {
    "python": {
     "delete_cmd_postfix": "",
     "delete_cmd_prefix": "del ",
     "library": "var_list.py",
     "varRefreshCmd": "print(var_dic_list())"
    },
    "r": {
     "delete_cmd_postfix": ") ",
     "delete_cmd_prefix": "rm(",
     "library": "var_list.r",
     "varRefreshCmd": "cat(var_dic_list()) "
    }
   },
   "types_to_exclude": [
    "module",
    "function",
    "builtin_function_or_method",
    "instance",
    "_Feature"
   ],
   "window_display": false
  }
 },
 "nbformat": 4,
 "nbformat_minor": 4
}
